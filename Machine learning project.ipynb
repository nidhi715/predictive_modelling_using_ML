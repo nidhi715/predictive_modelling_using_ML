{
 "cells": [
  {
   "cell_type": "code",
   "execution_count": 300,
   "metadata": {},
   "outputs": [],
   "source": [
    "#Loading libraries \n",
    "import pandas as pd\n",
    "import numpy as np\n",
    "import matplotlib.pyplot as plt\n",
    "import seaborn as sns\n",
    "from collections import Counter\n",
    "from imblearn.over_sampling import SMOTE\n",
    "from sklearn.model_selection import train_test_split\n",
    "from sklearn.metrics import confusion_matrix, precision_recall_curve, auc, roc_auc_score, roc_curve, recall_score, classification_report\n",
    "from sklearn.model_selection import RepeatedStratifiedKFold\n",
    "from sklearn.model_selection import cross_val_score\n",
    "from sklearn.model_selection import KFold\n",
    "from numpy import mean\n",
    "from sklearn.svm import LinearSVC"
   ]
  },
  {
   "cell_type": "code",
   "execution_count": 301,
   "metadata": {},
   "outputs": [
    {
     "data": {
      "text/html": [
       "<div>\n",
       "<style scoped>\n",
       "    .dataframe tbody tr th:only-of-type {\n",
       "        vertical-align: middle;\n",
       "    }\n",
       "\n",
       "    .dataframe tbody tr th {\n",
       "        vertical-align: top;\n",
       "    }\n",
       "\n",
       "    .dataframe thead th {\n",
       "        text-align: right;\n",
       "    }\n",
       "</style>\n",
       "<table border=\"1\" class=\"dataframe\">\n",
       "  <thead>\n",
       "    <tr style=\"text-align: right;\">\n",
       "      <th></th>\n",
       "      <th>encounter_id</th>\n",
       "      <th>patient_nbr</th>\n",
       "      <th>race</th>\n",
       "      <th>gender</th>\n",
       "      <th>age</th>\n",
       "      <th>weight</th>\n",
       "      <th>admission_type_id</th>\n",
       "      <th>discharge_disposition_id</th>\n",
       "      <th>admission_source_id</th>\n",
       "      <th>time_in_hospital</th>\n",
       "      <th>...</th>\n",
       "      <th>citoglipton</th>\n",
       "      <th>insulin</th>\n",
       "      <th>glyburide-metformin</th>\n",
       "      <th>glipizide-metformin</th>\n",
       "      <th>glimepiride-pioglitazone</th>\n",
       "      <th>metformin-rosiglitazone</th>\n",
       "      <th>metformin-pioglitazone</th>\n",
       "      <th>change</th>\n",
       "      <th>diabetesMed</th>\n",
       "      <th>readmitted</th>\n",
       "    </tr>\n",
       "  </thead>\n",
       "  <tbody>\n",
       "    <tr>\n",
       "      <td>0</td>\n",
       "      <td>2278392</td>\n",
       "      <td>8222157</td>\n",
       "      <td>Caucasian</td>\n",
       "      <td>Female</td>\n",
       "      <td>[0-10)</td>\n",
       "      <td>?</td>\n",
       "      <td>6</td>\n",
       "      <td>25</td>\n",
       "      <td>1</td>\n",
       "      <td>1</td>\n",
       "      <td>...</td>\n",
       "      <td>No</td>\n",
       "      <td>No</td>\n",
       "      <td>No</td>\n",
       "      <td>No</td>\n",
       "      <td>No</td>\n",
       "      <td>No</td>\n",
       "      <td>No</td>\n",
       "      <td>No</td>\n",
       "      <td>No</td>\n",
       "      <td>NO</td>\n",
       "    </tr>\n",
       "    <tr>\n",
       "      <td>1</td>\n",
       "      <td>149190</td>\n",
       "      <td>55629189</td>\n",
       "      <td>Caucasian</td>\n",
       "      <td>Female</td>\n",
       "      <td>[10-20)</td>\n",
       "      <td>?</td>\n",
       "      <td>1</td>\n",
       "      <td>1</td>\n",
       "      <td>7</td>\n",
       "      <td>3</td>\n",
       "      <td>...</td>\n",
       "      <td>No</td>\n",
       "      <td>Up</td>\n",
       "      <td>No</td>\n",
       "      <td>No</td>\n",
       "      <td>No</td>\n",
       "      <td>No</td>\n",
       "      <td>No</td>\n",
       "      <td>Ch</td>\n",
       "      <td>Yes</td>\n",
       "      <td>&gt;30</td>\n",
       "    </tr>\n",
       "    <tr>\n",
       "      <td>2</td>\n",
       "      <td>64410</td>\n",
       "      <td>86047875</td>\n",
       "      <td>AfricanAmerican</td>\n",
       "      <td>Female</td>\n",
       "      <td>[20-30)</td>\n",
       "      <td>?</td>\n",
       "      <td>1</td>\n",
       "      <td>1</td>\n",
       "      <td>7</td>\n",
       "      <td>2</td>\n",
       "      <td>...</td>\n",
       "      <td>No</td>\n",
       "      <td>No</td>\n",
       "      <td>No</td>\n",
       "      <td>No</td>\n",
       "      <td>No</td>\n",
       "      <td>No</td>\n",
       "      <td>No</td>\n",
       "      <td>No</td>\n",
       "      <td>Yes</td>\n",
       "      <td>NO</td>\n",
       "    </tr>\n",
       "    <tr>\n",
       "      <td>3</td>\n",
       "      <td>500364</td>\n",
       "      <td>82442376</td>\n",
       "      <td>Caucasian</td>\n",
       "      <td>Male</td>\n",
       "      <td>[30-40)</td>\n",
       "      <td>?</td>\n",
       "      <td>1</td>\n",
       "      <td>1</td>\n",
       "      <td>7</td>\n",
       "      <td>2</td>\n",
       "      <td>...</td>\n",
       "      <td>No</td>\n",
       "      <td>Up</td>\n",
       "      <td>No</td>\n",
       "      <td>No</td>\n",
       "      <td>No</td>\n",
       "      <td>No</td>\n",
       "      <td>No</td>\n",
       "      <td>Ch</td>\n",
       "      <td>Yes</td>\n",
       "      <td>NO</td>\n",
       "    </tr>\n",
       "    <tr>\n",
       "      <td>4</td>\n",
       "      <td>16680</td>\n",
       "      <td>42519267</td>\n",
       "      <td>Caucasian</td>\n",
       "      <td>Male</td>\n",
       "      <td>[40-50)</td>\n",
       "      <td>?</td>\n",
       "      <td>1</td>\n",
       "      <td>1</td>\n",
       "      <td>7</td>\n",
       "      <td>1</td>\n",
       "      <td>...</td>\n",
       "      <td>No</td>\n",
       "      <td>Steady</td>\n",
       "      <td>No</td>\n",
       "      <td>No</td>\n",
       "      <td>No</td>\n",
       "      <td>No</td>\n",
       "      <td>No</td>\n",
       "      <td>Ch</td>\n",
       "      <td>Yes</td>\n",
       "      <td>NO</td>\n",
       "    </tr>\n",
       "  </tbody>\n",
       "</table>\n",
       "<p>5 rows × 50 columns</p>\n",
       "</div>"
      ],
      "text/plain": [
       "   encounter_id  patient_nbr             race  gender      age weight  \\\n",
       "0       2278392      8222157        Caucasian  Female   [0-10)      ?   \n",
       "1        149190     55629189        Caucasian  Female  [10-20)      ?   \n",
       "2         64410     86047875  AfricanAmerican  Female  [20-30)      ?   \n",
       "3        500364     82442376        Caucasian    Male  [30-40)      ?   \n",
       "4         16680     42519267        Caucasian    Male  [40-50)      ?   \n",
       "\n",
       "   admission_type_id  discharge_disposition_id  admission_source_id  \\\n",
       "0                  6                        25                    1   \n",
       "1                  1                         1                    7   \n",
       "2                  1                         1                    7   \n",
       "3                  1                         1                    7   \n",
       "4                  1                         1                    7   \n",
       "\n",
       "   time_in_hospital  ... citoglipton insulin  glyburide-metformin  \\\n",
       "0                 1  ...          No      No                   No   \n",
       "1                 3  ...          No      Up                   No   \n",
       "2                 2  ...          No      No                   No   \n",
       "3                 2  ...          No      Up                   No   \n",
       "4                 1  ...          No  Steady                   No   \n",
       "\n",
       "   glipizide-metformin  glimepiride-pioglitazone  metformin-rosiglitazone  \\\n",
       "0                   No                        No                       No   \n",
       "1                   No                        No                       No   \n",
       "2                   No                        No                       No   \n",
       "3                   No                        No                       No   \n",
       "4                   No                        No                       No   \n",
       "\n",
       "   metformin-pioglitazone  change diabetesMed readmitted  \n",
       "0                      No      No          No         NO  \n",
       "1                      No      Ch         Yes        >30  \n",
       "2                      No      No         Yes         NO  \n",
       "3                      No      Ch         Yes         NO  \n",
       "4                      No      Ch         Yes         NO  \n",
       "\n",
       "[5 rows x 50 columns]"
      ]
     },
     "execution_count": 301,
     "metadata": {},
     "output_type": "execute_result"
    }
   ],
   "source": [
    "#Load the dataset\n",
    "\n",
    "import pandas as pd\n",
    "diabetic= pd.read_csv('C:/Users/nidhi/Desktop/diabetic_data.csv')\n",
    "\n",
    "diabetic.head()"
   ]
  },
  {
   "cell_type": "code",
   "execution_count": 302,
   "metadata": {},
   "outputs": [
    {
     "name": "stdout",
     "output_type": "stream",
     "text": [
      "Number of entries:  101766\n"
     ]
    }
   ],
   "source": [
    "print(\"Number of entries: \",len(diabetic))"
   ]
  },
  {
   "cell_type": "code",
   "execution_count": 303,
   "metadata": {},
   "outputs": [
    {
     "name": "stdout",
     "output_type": "stream",
     "text": [
      "<class 'pandas.core.frame.DataFrame'>\n",
      "RangeIndex: 101766 entries, 0 to 101765\n",
      "Data columns (total 50 columns):\n",
      "encounter_id                101766 non-null int64\n",
      "patient_nbr                 101766 non-null int64\n",
      "race                        101766 non-null object\n",
      "gender                      101766 non-null object\n",
      "age                         101766 non-null object\n",
      "weight                      101766 non-null object\n",
      "admission_type_id           101766 non-null int64\n",
      "discharge_disposition_id    101766 non-null int64\n",
      "admission_source_id         101766 non-null int64\n",
      "time_in_hospital            101766 non-null int64\n",
      "payer_code                  101766 non-null object\n",
      "medical_specialty           101766 non-null object\n",
      "num_lab_procedures          101766 non-null int64\n",
      "num_procedures              101766 non-null int64\n",
      "num_medications             101766 non-null int64\n",
      "number_outpatient           101766 non-null int64\n",
      "number_emergency            101766 non-null int64\n",
      "number_inpatient            101766 non-null int64\n",
      "diag_1                      101766 non-null object\n",
      "diag_2                      101766 non-null object\n",
      "diag_3                      101766 non-null object\n",
      "number_diagnoses            101766 non-null int64\n",
      "max_glu_serum               101766 non-null object\n",
      "A1Cresult                   101766 non-null object\n",
      "metformin                   101766 non-null object\n",
      "repaglinide                 101766 non-null object\n",
      "nateglinide                 101766 non-null object\n",
      "chlorpropamide              101766 non-null object\n",
      "glimepiride                 101766 non-null object\n",
      "acetohexamide               101766 non-null object\n",
      "glipizide                   101766 non-null object\n",
      "glyburide                   101766 non-null object\n",
      "tolbutamide                 101766 non-null object\n",
      "pioglitazone                101766 non-null object\n",
      "rosiglitazone               101766 non-null object\n",
      "acarbose                    101766 non-null object\n",
      "miglitol                    101766 non-null object\n",
      "troglitazone                101766 non-null object\n",
      "tolazamide                  101766 non-null object\n",
      "examide                     101766 non-null object\n",
      "citoglipton                 101766 non-null object\n",
      "insulin                     101766 non-null object\n",
      "glyburide-metformin         101766 non-null object\n",
      "glipizide-metformin         101766 non-null object\n",
      "glimepiride-pioglitazone    101766 non-null object\n",
      "metformin-rosiglitazone     101766 non-null object\n",
      "metformin-pioglitazone      101766 non-null object\n",
      "change                      101766 non-null object\n",
      "diabetesMed                 101766 non-null object\n",
      "readmitted                  101766 non-null object\n",
      "dtypes: int64(13), object(37)\n",
      "memory usage: 38.8+ MB\n"
     ]
    }
   ],
   "source": [
    "#let's get a quick overview of dataset\n",
    "\n",
    "diabetic.info()"
   ]
  },
  {
   "cell_type": "code",
   "execution_count": 304,
   "metadata": {},
   "outputs": [
    {
     "data": {
      "text/plain": [
       "(101766, 50)"
      ]
     },
     "execution_count": 304,
     "metadata": {},
     "output_type": "execute_result"
    }
   ],
   "source": [
    "diabetic.shape"
   ]
  },
  {
   "cell_type": "code",
   "execution_count": 305,
   "metadata": {},
   "outputs": [
    {
     "name": "stdout",
     "output_type": "stream",
     "text": [
      "race 2273\n",
      "gender 0\n",
      "age 0\n",
      "weight 98569\n",
      "payer_code 40256\n",
      "medical_specialty 49949\n",
      "diag_1 21\n",
      "diag_2 358\n",
      "diag_3 1423\n",
      "max_glu_serum 0\n",
      "A1Cresult 0\n",
      "metformin 0\n",
      "repaglinide 0\n",
      "nateglinide 0\n",
      "chlorpropamide 0\n",
      "glimepiride 0\n",
      "acetohexamide 0\n",
      "glipizide 0\n",
      "glyburide 0\n",
      "tolbutamide 0\n",
      "pioglitazone 0\n",
      "rosiglitazone 0\n",
      "acarbose 0\n",
      "miglitol 0\n",
      "troglitazone 0\n",
      "tolazamide 0\n",
      "examide 0\n",
      "citoglipton 0\n",
      "insulin 0\n",
      "glyburide-metformin 0\n",
      "glipizide-metformin 0\n",
      "glimepiride-pioglitazone 0\n",
      "metformin-rosiglitazone 0\n",
      "metformin-pioglitazone 0\n",
      "change 0\n",
      "diabetesMed 0\n",
      "readmitted 0\n",
      "gender 3\n"
     ]
    }
   ],
   "source": [
    "#Checking for missing values in dataset\n",
    "#In the dataset missing values are represented as '?' sign\n",
    "for col in diabetic.columns:\n",
    "    if diabetic[col].dtype == object:\n",
    "         print(col,diabetic[col][diabetic[col] == '?'].count())\n",
    "        \n",
    "print('gender', diabetic['gender'][diabetic['gender'] == 'Unknown/Invalid'].count()) # gender was coded differently so we use a custom count for this one"
   ]
  },
  {
   "cell_type": "code",
   "execution_count": 306,
   "metadata": {},
   "outputs": [],
   "source": [
    "#dropping the columns with large number of missing values\n",
    "diabetic = diabetic.drop(['weight','payer_code','medical_specialty'], axis = 1)"
   ]
  },
  {
   "cell_type": "code",
   "execution_count": 307,
   "metadata": {},
   "outputs": [],
   "source": [
    "drop_Idx = set(diabetic[(diabetic['diag_1'] == '?') & (diabetic['diag_2'] == '?') & (diabetic['diag_3'] == '?')].index)\n",
    "\n",
    "drop_Idx = drop_Idx.union(set(diabetic['diag_1'][diabetic['diag_1'] == '?'].index))\n",
    "drop_Idx = drop_Idx.union(set(diabetic['diag_2'][diabetic['diag_2'] == '?'].index))\n",
    "drop_Idx = drop_Idx.union(set(diabetic['diag_3'][diabetic['diag_3'] == '?'].index))\n",
    "drop_Idx = drop_Idx.union(set(diabetic['race'][diabetic['race'] == '?'].index))\n",
    "#drop_Idx = drop_Idx.union(set(diabetic[diabetic['discharge_disposition_id'] == 11].index))\n",
    "drop_Idx = drop_Idx.union(set(diabetic['gender'][diabetic['gender'] == 'Unknown/Invalid'].index))\n",
    "new_Idx = list(set(diabetic.index) - set(drop_Idx))\n",
    "diabetic = diabetic.iloc[new_Idx]"
   ]
  },
  {
   "cell_type": "code",
   "execution_count": 308,
   "metadata": {},
   "outputs": [],
   "source": [
    "#features (drugs named citoglipton and examide), all records have the same value.\n",
    "#So essentially these cannot provide any interpretive or discriminatory information for predicting readmission so we decided to drop these two features also.\n",
    "diabetic = diabetic.drop(['citoglipton', 'examide'], axis = 1)"
   ]
  },
  {
   "cell_type": "code",
   "execution_count": 309,
   "metadata": {},
   "outputs": [
    {
     "name": "stdout",
     "output_type": "stream",
     "text": [
      "race 0\n",
      "gender 0\n",
      "age 0\n",
      "diag_1 0\n",
      "diag_2 0\n",
      "diag_3 0\n",
      "max_glu_serum 0\n",
      "A1Cresult 0\n",
      "metformin 0\n",
      "repaglinide 0\n",
      "nateglinide 0\n",
      "chlorpropamide 0\n",
      "glimepiride 0\n",
      "acetohexamide 0\n",
      "glipizide 0\n",
      "glyburide 0\n",
      "tolbutamide 0\n",
      "pioglitazone 0\n",
      "rosiglitazone 0\n",
      "acarbose 0\n",
      "miglitol 0\n",
      "troglitazone 0\n",
      "tolazamide 0\n",
      "insulin 0\n",
      "glyburide-metformin 0\n",
      "glipizide-metformin 0\n",
      "glimepiride-pioglitazone 0\n",
      "metformin-rosiglitazone 0\n",
      "metformin-pioglitazone 0\n",
      "change 0\n",
      "diabetesMed 0\n",
      "readmitted 0\n",
      "gender 0\n"
     ]
    }
   ],
   "source": [
    "\n",
    "#Checking for missing values in the data\n",
    "for col in diabetic.columns:\n",
    "    if diabetic[col].dtype == object:\n",
    "         print(col,diabetic[col][diabetic[col] == '?'].count())\n",
    "            \n",
    "print('gender', diabetic['gender'][diabetic['gender'] == 'Unknown/Invalid'].count())\n"
   ]
  },
  {
   "cell_type": "code",
   "execution_count": 310,
   "metadata": {},
   "outputs": [
    {
     "name": "stdout",
     "output_type": "stream",
     "text": [
      "encounter_id: 98052 unique values\n",
      "patient_nbr: 68629 unique values\n",
      "race\n",
      "['Caucasian' 'AfricanAmerican' 'Other' 'Asian' 'Hispanic']\n",
      "gender\n",
      "['Female' 'Male']\n",
      "age\n",
      "['[10-20)' '[20-30)' '[30-40)' '[40-50)' '[50-60)' '[60-70)' '[70-80)'\n",
      " '[80-90)' '[90-100)' '[0-10)']\n",
      "admission_type_id\n",
      "[1 2 3 6 4 5 8 7]\n",
      "discharge_disposition_id\n",
      "[ 1  3  6  2  5 11  7 25 10  4 14 18  8 13 12 16 17 22 23  9 20 15 24 28\n",
      " 19 27]\n",
      "admission_source_id\n",
      "[ 7  2  4  1  5  6 20  3 17  8  9 14 10 22 11 25 13]\n",
      "time_in_hospital\n",
      "[ 3  2  1  4  5 13 12  9  7 10 11  6  8 14]\n",
      "num_lab_procedures: 118 unique values\n",
      "num_procedures\n",
      "[0 5 1 6 2 3 4]\n",
      "num_medications: 75 unique values\n",
      "number_outpatient: 39 unique values\n",
      "number_emergency: 33 unique values\n",
      "number_inpatient\n",
      "[ 0  1  2  3  6  5  4  7  8  9 15 10 11 14 12 13 16 21 18 19]\n",
      "diag_1: 713 unique values\n",
      "diag_2: 740 unique values\n",
      "diag_3: 786 unique values\n",
      "number_diagnoses\n",
      "[ 9  6  7  5  8  3  4 16 12 13 15 10 11 14]\n",
      "max_glu_serum\n",
      "['None' '>300' 'Norm' '>200']\n",
      "A1Cresult\n",
      "['None' '>7' '>8' 'Norm']\n",
      "metformin\n",
      "['No' 'Steady' 'Up' 'Down']\n",
      "repaglinide\n",
      "['No' 'Up' 'Steady' 'Down']\n",
      "nateglinide\n",
      "['No' 'Steady' 'Down' 'Up']\n",
      "chlorpropamide\n",
      "['No' 'Steady' 'Down' 'Up']\n",
      "glimepiride\n",
      "['No' 'Steady' 'Down' 'Up']\n",
      "acetohexamide\n",
      "['No' 'Steady']\n",
      "glipizide\n",
      "['No' 'Steady' 'Up' 'Down']\n",
      "glyburide\n",
      "['No' 'Steady' 'Up' 'Down']\n",
      "tolbutamide\n",
      "['No' 'Steady']\n",
      "pioglitazone\n",
      "['No' 'Steady' 'Up' 'Down']\n",
      "rosiglitazone\n",
      "['No' 'Steady' 'Up' 'Down']\n",
      "acarbose\n",
      "['No' 'Steady' 'Up' 'Down']\n",
      "miglitol\n",
      "['No' 'Steady' 'Down' 'Up']\n",
      "troglitazone\n",
      "['No' 'Steady']\n",
      "tolazamide\n",
      "['No' 'Steady' 'Up']\n",
      "insulin\n",
      "['Up' 'No' 'Steady' 'Down']\n",
      "glyburide-metformin\n",
      "['No' 'Steady' 'Down' 'Up']\n",
      "glipizide-metformin\n",
      "['No' 'Steady']\n",
      "glimepiride-pioglitazone\n",
      "['No' 'Steady']\n",
      "metformin-rosiglitazone\n",
      "['No']\n",
      "metformin-pioglitazone\n",
      "['No' 'Steady']\n",
      "change\n",
      "['Ch' 'No']\n",
      "diabetesMed\n",
      "['Yes' 'No']\n",
      "readmitted\n",
      "['>30' 'NO' '<30']\n"
     ]
    }
   ],
   "source": [
    "#Let's take a look at the unique values for each column.\n",
    "# for each column\n",
    "for c in list(diabetic.columns):\n",
    "    \n",
    "    # get a list of unique values\n",
    "    n = diabetic[c].unique()\n",
    "    \n",
    "    # if number of unique values is less than 30, print the values. Otherwise print the number of unique values\n",
    "    if len(n)<30:\n",
    "        print(c)\n",
    "        print(n)\n",
    "    else:\n",
    "        print(c + ': ' +str(len(n)) + ' unique values')"
   ]
  },
  {
   "cell_type": "code",
   "execution_count": 311,
   "metadata": {},
   "outputs": [],
   "source": [
    "#The first set of categorical data we will deal with are these columns\n",
    "cols_cat = ['race', 'gender']"
   ]
  },
  {
   "cell_type": "code",
   "execution_count": 312,
   "metadata": {},
   "outputs": [],
   "source": [
    "cols_cat_num = ['admission_type_id', 'discharge_disposition_id', 'admission_source_id']\n",
    "diabetic[cols_cat_num] = diabetic[cols_cat_num].astype('str')"
   ]
  },
  {
   "cell_type": "code",
   "execution_count": 313,
   "metadata": {},
   "outputs": [],
   "source": [
    "# Now we are ready to make all of our categorical features\n",
    "diabetic_cat = pd.get_dummies(diabetic[cols_cat + cols_cat_num ],drop_first = True)"
   ]
  },
  {
   "cell_type": "code",
   "execution_count": 314,
   "metadata": {},
   "outputs": [],
   "source": [
    "diabetic_cat = pd.get_dummies(diabetic[cols_cat + cols_cat_num ],drop_first = True)"
   ]
  },
  {
   "cell_type": "code",
   "execution_count": 315,
   "metadata": {},
   "outputs": [
    {
     "data": {
      "text/html": [
       "<div>\n",
       "<style scoped>\n",
       "    .dataframe tbody tr th:only-of-type {\n",
       "        vertical-align: middle;\n",
       "    }\n",
       "\n",
       "    .dataframe tbody tr th {\n",
       "        vertical-align: top;\n",
       "    }\n",
       "\n",
       "    .dataframe thead th {\n",
       "        text-align: right;\n",
       "    }\n",
       "</style>\n",
       "<table border=\"1\" class=\"dataframe\">\n",
       "  <thead>\n",
       "    <tr style=\"text-align: right;\">\n",
       "      <th></th>\n",
       "      <th>race_Asian</th>\n",
       "      <th>race_Caucasian</th>\n",
       "      <th>race_Hispanic</th>\n",
       "      <th>race_Other</th>\n",
       "      <th>gender_Male</th>\n",
       "      <th>admission_type_id_2</th>\n",
       "      <th>admission_type_id_3</th>\n",
       "      <th>admission_type_id_4</th>\n",
       "      <th>admission_type_id_5</th>\n",
       "      <th>admission_type_id_6</th>\n",
       "      <th>...</th>\n",
       "      <th>admission_source_id_20</th>\n",
       "      <th>admission_source_id_22</th>\n",
       "      <th>admission_source_id_25</th>\n",
       "      <th>admission_source_id_3</th>\n",
       "      <th>admission_source_id_4</th>\n",
       "      <th>admission_source_id_5</th>\n",
       "      <th>admission_source_id_6</th>\n",
       "      <th>admission_source_id_7</th>\n",
       "      <th>admission_source_id_8</th>\n",
       "      <th>admission_source_id_9</th>\n",
       "    </tr>\n",
       "  </thead>\n",
       "  <tbody>\n",
       "    <tr>\n",
       "      <td>1</td>\n",
       "      <td>0</td>\n",
       "      <td>1</td>\n",
       "      <td>0</td>\n",
       "      <td>0</td>\n",
       "      <td>0</td>\n",
       "      <td>0</td>\n",
       "      <td>0</td>\n",
       "      <td>0</td>\n",
       "      <td>0</td>\n",
       "      <td>0</td>\n",
       "      <td>...</td>\n",
       "      <td>0</td>\n",
       "      <td>0</td>\n",
       "      <td>0</td>\n",
       "      <td>0</td>\n",
       "      <td>0</td>\n",
       "      <td>0</td>\n",
       "      <td>0</td>\n",
       "      <td>1</td>\n",
       "      <td>0</td>\n",
       "      <td>0</td>\n",
       "    </tr>\n",
       "    <tr>\n",
       "      <td>2</td>\n",
       "      <td>0</td>\n",
       "      <td>0</td>\n",
       "      <td>0</td>\n",
       "      <td>0</td>\n",
       "      <td>0</td>\n",
       "      <td>0</td>\n",
       "      <td>0</td>\n",
       "      <td>0</td>\n",
       "      <td>0</td>\n",
       "      <td>0</td>\n",
       "      <td>...</td>\n",
       "      <td>0</td>\n",
       "      <td>0</td>\n",
       "      <td>0</td>\n",
       "      <td>0</td>\n",
       "      <td>0</td>\n",
       "      <td>0</td>\n",
       "      <td>0</td>\n",
       "      <td>1</td>\n",
       "      <td>0</td>\n",
       "      <td>0</td>\n",
       "    </tr>\n",
       "    <tr>\n",
       "      <td>3</td>\n",
       "      <td>0</td>\n",
       "      <td>1</td>\n",
       "      <td>0</td>\n",
       "      <td>0</td>\n",
       "      <td>1</td>\n",
       "      <td>0</td>\n",
       "      <td>0</td>\n",
       "      <td>0</td>\n",
       "      <td>0</td>\n",
       "      <td>0</td>\n",
       "      <td>...</td>\n",
       "      <td>0</td>\n",
       "      <td>0</td>\n",
       "      <td>0</td>\n",
       "      <td>0</td>\n",
       "      <td>0</td>\n",
       "      <td>0</td>\n",
       "      <td>0</td>\n",
       "      <td>1</td>\n",
       "      <td>0</td>\n",
       "      <td>0</td>\n",
       "    </tr>\n",
       "    <tr>\n",
       "      <td>4</td>\n",
       "      <td>0</td>\n",
       "      <td>1</td>\n",
       "      <td>0</td>\n",
       "      <td>0</td>\n",
       "      <td>1</td>\n",
       "      <td>0</td>\n",
       "      <td>0</td>\n",
       "      <td>0</td>\n",
       "      <td>0</td>\n",
       "      <td>0</td>\n",
       "      <td>...</td>\n",
       "      <td>0</td>\n",
       "      <td>0</td>\n",
       "      <td>0</td>\n",
       "      <td>0</td>\n",
       "      <td>0</td>\n",
       "      <td>0</td>\n",
       "      <td>0</td>\n",
       "      <td>1</td>\n",
       "      <td>0</td>\n",
       "      <td>0</td>\n",
       "    </tr>\n",
       "    <tr>\n",
       "      <td>5</td>\n",
       "      <td>0</td>\n",
       "      <td>1</td>\n",
       "      <td>0</td>\n",
       "      <td>0</td>\n",
       "      <td>1</td>\n",
       "      <td>1</td>\n",
       "      <td>0</td>\n",
       "      <td>0</td>\n",
       "      <td>0</td>\n",
       "      <td>0</td>\n",
       "      <td>...</td>\n",
       "      <td>0</td>\n",
       "      <td>0</td>\n",
       "      <td>0</td>\n",
       "      <td>0</td>\n",
       "      <td>0</td>\n",
       "      <td>0</td>\n",
       "      <td>0</td>\n",
       "      <td>0</td>\n",
       "      <td>0</td>\n",
       "      <td>0</td>\n",
       "    </tr>\n",
       "  </tbody>\n",
       "</table>\n",
       "<p>5 rows × 53 columns</p>\n",
       "</div>"
      ],
      "text/plain": [
       "   race_Asian  race_Caucasian  race_Hispanic  race_Other  gender_Male  \\\n",
       "1           0               1              0           0            0   \n",
       "2           0               0              0           0            0   \n",
       "3           0               1              0           0            1   \n",
       "4           0               1              0           0            1   \n",
       "5           0               1              0           0            1   \n",
       "\n",
       "   admission_type_id_2  admission_type_id_3  admission_type_id_4  \\\n",
       "1                    0                    0                    0   \n",
       "2                    0                    0                    0   \n",
       "3                    0                    0                    0   \n",
       "4                    0                    0                    0   \n",
       "5                    1                    0                    0   \n",
       "\n",
       "   admission_type_id_5  admission_type_id_6  ...  admission_source_id_20  \\\n",
       "1                    0                    0  ...                       0   \n",
       "2                    0                    0  ...                       0   \n",
       "3                    0                    0  ...                       0   \n",
       "4                    0                    0  ...                       0   \n",
       "5                    0                    0  ...                       0   \n",
       "\n",
       "   admission_source_id_22  admission_source_id_25  admission_source_id_3  \\\n",
       "1                       0                       0                      0   \n",
       "2                       0                       0                      0   \n",
       "3                       0                       0                      0   \n",
       "4                       0                       0                      0   \n",
       "5                       0                       0                      0   \n",
       "\n",
       "   admission_source_id_4  admission_source_id_5  admission_source_id_6  \\\n",
       "1                      0                      0                      0   \n",
       "2                      0                      0                      0   \n",
       "3                      0                      0                      0   \n",
       "4                      0                      0                      0   \n",
       "5                      0                      0                      0   \n",
       "\n",
       "   admission_source_id_7  admission_source_id_8  admission_source_id_9  \n",
       "1                      1                      0                      0  \n",
       "2                      1                      0                      0  \n",
       "3                      1                      0                      0  \n",
       "4                      1                      0                      0  \n",
       "5                      0                      0                      0  \n",
       "\n",
       "[5 rows x 53 columns]"
      ]
     },
     "execution_count": 315,
     "metadata": {},
     "output_type": "execute_result"
    }
   ],
   "source": [
    "diabetic_cat.head()"
   ]
  },
  {
   "cell_type": "code",
   "execution_count": 316,
   "metadata": {},
   "outputs": [],
   "source": [
    "diabetic = pd.concat([diabetic,diabetic_cat], axis = 1)"
   ]
  },
  {
   "cell_type": "code",
   "execution_count": 317,
   "metadata": {},
   "outputs": [],
   "source": [
    "cols_all_cat = list(diabetic_cat.columns)"
   ]
  },
  {
   "cell_type": "code",
   "execution_count": 318,
   "metadata": {},
   "outputs": [],
   "source": [
    "keys = ['metformin', 'repaglinide', 'nateglinide', 'chlorpropamide', 'glimepiride', 'glipizide', 'glyburide', 'pioglitazone', 'rosiglitazone', 'acarbose', 'miglitol', 'insulin', 'glyburide-metformin', 'tolazamide', 'metformin-pioglitazone','metformin-rosiglitazone', 'glimepiride-pioglitazone', 'glipizide-metformin', 'troglitazone', 'tolbutamide', 'acetohexamide']\n",
    "# keys is the same as before\n",
    "for col in keys:\n",
    "    diabetic[col] = diabetic[col].replace('No', 0)\n",
    "    diabetic[col] = diabetic[col].replace('Steady', 1)\n",
    "    diabetic[col] = diabetic[col].replace('Up', 2)\n",
    "    diabetic[col] = diabetic[col].replace('Down', 3)"
   ]
  },
  {
   "cell_type": "code",
   "execution_count": 319,
   "metadata": {},
   "outputs": [],
   "source": [
    "diabetic['change'] = diabetic['change'].replace('Ch', 1)\n",
    "diabetic['change'] = diabetic['change'].replace('No', 0)\n",
    "diabetic['diabetesMed'] = diabetic['diabetesMed'].replace('Yes', 1)\n",
    "diabetic['diabetesMed'] = diabetic['diabetesMed'].replace('No', 0)"
   ]
  },
  {
   "cell_type": "code",
   "execution_count": 320,
   "metadata": {},
   "outputs": [],
   "source": [
    "#We also reduced both A1C test result and Glucose serum test \n",
    "#result into categories of Normal,Abnormal and Not tested.\n",
    "diabetic['A1Cresult'] = diabetic['A1Cresult'].replace('>7', 1)\n",
    "diabetic['A1Cresult'] = diabetic['A1Cresult'].replace('>8', 1)\n",
    "diabetic['A1Cresult'] = diabetic['A1Cresult'].replace('Norm', 0)\n",
    "diabetic['A1Cresult'] = diabetic['A1Cresult'].replace('None', 2)\n",
    "diabetic['max_glu_serum'] = diabetic['max_glu_serum'].replace('>200', 1)\n",
    "diabetic['max_glu_serum'] = diabetic['max_glu_serum'].replace('>300', 1)\n",
    "diabetic['max_glu_serum'] = diabetic['max_glu_serum'].replace('Norm', 0)\n",
    "diabetic['max_glu_serum'] = diabetic['max_glu_serum'].replace('None', 2)"
   ]
  },
  {
   "cell_type": "code",
   "execution_count": 321,
   "metadata": {},
   "outputs": [
    {
     "data": {
      "text/plain": [
       "8     25305\n",
       "7     21809\n",
       "9     16702\n",
       "6     16697\n",
       "5      9265\n",
       "4      3548\n",
       "10     2717\n",
       "3      1478\n",
       "2       466\n",
       "1        65\n",
       "Name: age, dtype: int64"
      ]
     },
     "execution_count": 321,
     "metadata": {},
     "output_type": "execute_result"
    }
   ],
   "source": [
    "# code age intervals [0-10) - [90-100) from 1-10\n",
    "for i in range(0,10):\n",
    "    diabetic['age'] = diabetic['age'].replace('['+str(10*i)+'-'+str(10*(i+1))+')', i+1)\n",
    "diabetic['age'].value_counts()"
   ]
  },
  {
   "cell_type": "code",
   "execution_count": 322,
   "metadata": {},
   "outputs": [],
   "source": [
    "diabetic['diag_1'] = diabetic['diag_1'].str.replace('V', '')\n",
    "diabetic['diag_2'] = diabetic['diag_2'].str.replace('V', '')\n",
    "diabetic['diag_3'] = diabetic['diag_3'].str.replace('V', '')\n",
    "diabetic['diag_1'] = diabetic['diag_1'].str.replace('E', '')\n",
    "diabetic['diag_2'] = diabetic['diag_2'].str.replace('E', '')\n",
    "diabetic['diag_3'] = diabetic['diag_3'].str.replace('E', '')\n",
    "diabetic['diag_1'] = diabetic['diag_1'].astype(float)\n",
    "diabetic['diag_2'] = diabetic['diag_2'].astype(float)\n",
    "diabetic['diag_3'] = diabetic['diag_3'].astype(float)"
   ]
  },
  {
   "cell_type": "code",
   "execution_count": 323,
   "metadata": {},
   "outputs": [
    {
     "data": {
      "text/plain": [
       "(68629, 98)"
      ]
     },
     "execution_count": 323,
     "metadata": {},
     "output_type": "execute_result"
    }
   ],
   "source": [
    "diabetic = diabetic.drop_duplicates(subset= ['patient_nbr'], keep = 'first')\n",
    "diabetic.shape"
   ]
  },
  {
   "cell_type": "code",
   "execution_count": 324,
   "metadata": {},
   "outputs": [
    {
     "data": {
      "text/plain": [
       "NO     40879\n",
       ">30    21624\n",
       "<30     6126\n",
       "Name: readmitted, dtype: int64"
      ]
     },
     "execution_count": 324,
     "metadata": {},
     "output_type": "execute_result"
    }
   ],
   "source": [
    "diabetic['readmitted'].value_counts()"
   ]
  },
  {
   "cell_type": "code",
   "execution_count": 325,
   "metadata": {},
   "outputs": [],
   "source": [
    "diabetic['OUTPUT_LABEL'] = (diabetic.readmitted == '<30').astype('int')"
   ]
  },
  {
   "cell_type": "code",
   "execution_count": 326,
   "metadata": {},
   "outputs": [
    {
     "name": "stdout",
     "output_type": "stream",
     "text": [
      "Prevalence:0.089\n"
     ]
    }
   ],
   "source": [
    "def calc_prevalence(y_actual):\n",
    "    return (sum(y_actual)/len(y_actual))\n",
    "\n",
    "print('Prevalence:%.3f'%calc_prevalence(diabetic['OUTPUT_LABEL'].values))\n"
   ]
  },
  {
   "cell_type": "code",
   "execution_count": 327,
   "metadata": {},
   "outputs": [
    {
     "data": {
      "text/plain": [
       "Text(0.5, 1.0, 'Distrinution of Readmission')"
      ]
     },
     "execution_count": 327,
     "metadata": {},
     "output_type": "execute_result"
    },
    {
     "data": {
      "image/png": "[encoded data removed]",
      "text/plain": [
       "<Figure size 432x288 with 1 Axes>"
      ]
     },
     "metadata": {},
     "output_type": "display_data"
    }
   ],
   "source": [
    "#DATA VISUALIZATION\n",
    "# Distribution of Readmission \n",
    "sns.countplot(diabetic['OUTPUT_LABEL']).set_title('Distrinution of Readmission')"
   ]
  },
  {
   "cell_type": "code",
   "execution_count": 328,
   "metadata": {},
   "outputs": [
    {
     "data": {
      "text/plain": [
       "Text(0.5, 1.0, 'Time in Hospital VS. Readmission')"
      ]
     },
     "execution_count": 328,
     "metadata": {},
     "output_type": "execute_result"
    },
    {
     "data": {
      "image/png": "[encoded data removed]",
      "text/plain": [
       "<Figure size 936x504 with 1 Axes>"
      ]
     },
     "metadata": {},
     "output_type": "display_data"
    }
   ],
   "source": [
    "fig = plt.figure(figsize=(13,7),)\n",
    "ax=sns.kdeplot(diabetic.loc[(diabetic['OUTPUT_LABEL'] == 0),'time_in_hospital'] , color='b',shade=True,label='Not Readmitted')\n",
    "ax=sns.kdeplot(diabetic.loc[(diabetic['OUTPUT_LABEL'] == 1),'time_in_hospital'] , color='r',shade=True, label='Readmitted')\n",
    "ax.set(xlabel='Time in Hospital', ylabel='Frequency')\n",
    "plt.title('Time in Hospital VS. Readmission')"
   ]
  },
  {
   "cell_type": "code",
   "execution_count": 329,
   "metadata": {},
   "outputs": [
    {
     "data": {
      "text/plain": [
       "Text(0.5, 1.0, 'Age of Patient VS. Readmission')"
      ]
     },
     "execution_count": 329,
     "metadata": {},
     "output_type": "execute_result"
    },
    {
     "data": {
      "image/png": "[encoded data removed]",
      "text/plain": [
       "<Figure size 1080x720 with 1 Axes>"
      ]
     },
     "metadata": {},
     "output_type": "display_data"
    }
   ],
   "source": [
    "fig = plt.figure(figsize=(15,10))\n",
    "sns.countplot(y= diabetic['age'], hue = diabetic['OUTPUT_LABEL']).set_title('Age of Patient VS. Readmission')"
   ]
  },
  {
   "cell_type": "code",
   "execution_count": 330,
   "metadata": {},
   "outputs": [
    {
     "data": {
      "text/plain": [
       "OUTPUT_LABEL                   1.000000\n",
       "number_inpatient               0.099698\n",
       "discharge_disposition_id_22    0.088348\n",
       "discharge_disposition_id_3     0.057535\n",
       "time_in_hospital               0.052030\n",
       "                                 ...   \n",
       "diag_1                        -0.015372\n",
       "discharge_disposition_id_11   -0.039080\n",
       "encounter_id                  -0.048829\n",
       "glimepiride-pioglitazone            NaN\n",
       "metformin-rosiglitazone             NaN\n",
       "Name: OUTPUT_LABEL, Length: 93, dtype: float64"
      ]
     },
     "execution_count": 330,
     "metadata": {},
     "output_type": "execute_result"
    }
   ],
   "source": [
    "corr_matrix = diabetic.corr()\n",
    "corr_matrix[\"OUTPUT_LABEL\"].sort_values(ascending=False)"
   ]
  },
  {
   "cell_type": "code",
   "execution_count": 331,
   "metadata": {},
   "outputs": [],
   "source": [
    "#Models \n",
    "#We are using following function to evaluate the performance of the model"
   ]
  },
  {
   "cell_type": "code",
   "execution_count": 332,
   "metadata": {},
   "outputs": [],
   "source": [
    "from sklearn.metrics import roc_auc_score, accuracy_score, precision_score, recall_score\n",
    "def calc_specificity(y_actual, y_pred, thresh):\n",
    "    # calculates specificity\n",
    "    return sum((y_pred < thresh) & (y_actual == 0)) /sum(y_actual ==0)\n",
    "def print_report(y_actual, y_pred, thresh):\n",
    "    auc = roc_auc_score(y_actual, y_pred)\n",
    "    accuracy = accuracy_score(y_actual, (y_pred > thresh))\n",
    "    recall = recall_score(y_actual, (y_pred > thresh))\n",
    "    precision = precision_score(y_actual, (y_pred > thresh))\n",
    "    specificity = calc_specificity(y_actual, y_pred, thresh)\n",
    "    print('AUC:%.3f'%auc)\n",
    "    print('accuracy:%.3f'%accuracy)\n",
    "    print('recall:%.3f'%recall)\n",
    "    print('precision:%.3f'%precision)\n",
    "    print('specificity:%.3f'%specificity)\n",
    "    print(' ')\n",
    "    return auc, accuracy, recall, precision, specificity"
   ]
  },
  {
   "cell_type": "code",
   "execution_count": 333,
   "metadata": {},
   "outputs": [],
   "source": [
    "#Since we balanced our training data, let's set our threshold at 0.5 to label a predicted sample as positive.\n",
    "thresh = 0.5"
   ]
  },
  {
   "cell_type": "code",
   "execution_count": 334,
   "metadata": {},
   "outputs": [],
   "source": [
    "feature = ['age', 'race_Asian',\t'race_Caucasian',\t'race_Hispanic','race_Other',\t'gender_Male','admission_type_id_2','admission_type_id_3','admission_type_id_4','admission_type_id_5','admission_type_id_6','admission_type_id_7','admission_type_id_8','discharge_disposition_id_10','discharge_disposition_id_11','discharge_disposition_id_12','discharge_disposition_id_13','discharge_disposition_id_14','discharge_disposition_id_15','discharge_disposition_id_16','discharge_disposition_id_17','discharge_disposition_id_18','discharge_disposition_id_19','discharge_disposition_id_2','discharge_disposition_id_20','discharge_disposition_id_22','discharge_disposition_id_23','discharge_disposition_id_24','discharge_disposition_id_25','discharge_disposition_id_27','discharge_disposition_id_28','discharge_disposition_id_3','discharge_disposition_id_4','discharge_disposition_id_5','discharge_disposition_id_6','discharge_disposition_id_7','discharge_disposition_id_8','discharge_disposition_id_9','admission_source_id_10','admission_source_id_11','admission_source_id_13','admission_source_id_14','admission_source_id_17','admission_source_id_2','admission_source_id_20','admission_source_id_22','admission_source_id_25','admission_source_id_3','admission_source_id_4','admission_source_id_5',\t'admission_source_id_6',\t'admission_source_id_7',\t'admission_source_id_8','admission_source_id_9','time_in_hospital', 'num_lab_procedures','num_procedures', 'num_medications', 'number_outpatient', \n",
    "                 'number_emergency', 'number_inpatient', 'number_diagnoses', \n",
    "                 'metformin', 'repaglinide', 'nateglinide', 'chlorpropamide', 'glimepiride', 'glipizide', 'glyburide', 'pioglitazone', 'rosiglitazone', 'acarbose', 'miglitol', 'insulin', 'glyburide-metformin', 'tolazamide', 'metformin-pioglitazone','metformin-rosiglitazone', 'glimepiride-pioglitazone', 'glipizide-metformin', 'troglitazone', 'tolbutamide', 'acetohexamide',\n",
    "                  'max_glu_serum', 'A1Cresult', 'diag_1','diag_2','diag_3']"
   ]
  },
  {
   "cell_type": "code",
   "execution_count": 335,
   "metadata": {},
   "outputs": [
    {
     "name": "stdout",
     "output_type": "stream",
     "text": [
      "Split size: 0.300\n"
     ]
    }
   ],
   "source": [
    "X = diabetic[feature]\n",
    "y = diabetic['OUTPUT_LABEL']\n",
    "all = pd.concat([X, y], axis=1) \n",
    "# shuffle the samples\n",
    "all = all.sample(n = len(all), random_state = 42)\n",
    "all = all.reset_index(drop = True)\n",
    "# Save 30% of the data as validation and test data \n",
    "df_valid_test=all.sample(frac=0.30,random_state=42)\n",
    "print('Split size: %.3f'%(len(df_valid_test)/len(all)))\n",
    "df_test = df_valid_test.sample(frac = 0.5, random_state = 42)\n",
    "df_valid = df_valid_test.drop(df_test.index)\n",
    "#use the rest of the data as training data\n",
    "df_train_all=all.drop(df_valid_test.index)"
   ]
  },
  {
   "cell_type": "code",
   "execution_count": 336,
   "metadata": {},
   "outputs": [
    {
     "name": "stdout",
     "output_type": "stream",
     "text": [
      "Train balanced prevalence(n = 12252):0.500\n"
     ]
    }
   ],
   "source": [
    "#split the training data into positive and negative\n",
    "rows_pos = all.OUTPUT_LABEL == 1\n",
    "X_train_pos = all.loc[rows_pos]\n",
    "X_train_neg =all.loc[~rows_pos]\n",
    "\n",
    "# merge the balanced data\n",
    "df_train = pd.concat([X_train_pos, X_train_neg.sample(n = len(X_train_pos), random_state = 42)],axis = 0)\n",
    "\n",
    "# shuffle the order of training samples \n",
    "X_train = df_train.sample(n = len(df_train), random_state = 42).reset_index(drop = True)\n",
    "\n",
    "print('Train balanced prevalence(n = %d):%.3f'%(len(X_train), calc_prevalence(df_train.OUTPUT_LABEL.values)))"
   ]
  },
  {
   "cell_type": "code",
   "execution_count": 337,
   "metadata": {},
   "outputs": [
    {
     "name": "stdout",
     "output_type": "stream",
     "text": [
      "Training All shapes: (48040, 88)\n",
      "Training shapes: (12252, 88) (12252,)\n",
      "Validation shapes: (10295, 88) (10295,)\n"
     ]
    }
   ],
   "source": [
    "X_train = df_train[feature].values\n",
    "X_train_all = df_train_all[feature].values\n",
    "X_valid = df_valid[feature].values\n",
    "\n",
    "y_train = df_train['OUTPUT_LABEL'].values\n",
    "y_valid = df_valid['OUTPUT_LABEL'].values\n",
    "\n",
    "print('Training All shapes:',X_train_all.shape)\n",
    "print('Training shapes:',X_train.shape, y_train.shape)\n",
    "print('Validation shapes:',X_valid.shape, y_valid.shape)"
   ]
  },
  {
   "cell_type": "code",
   "execution_count": 338,
   "metadata": {},
   "outputs": [],
   "source": [
    "from sklearn.preprocessing import StandardScaler\n",
    "scaler = StandardScaler()\n",
    "scaler.fit_transform(X_train_all)\n",
    "X_train_sc= scaler.fit_transform(X_train)\n",
    "X_valid_sc= scaler.fit_transform(X_valid)"
   ]
  },
  {
   "cell_type": "code",
   "execution_count": 339,
   "metadata": {},
   "outputs": [],
   "source": [
    "#K-nearest neighbors"
   ]
  },
  {
   "cell_type": "code",
   "execution_count": 340,
   "metadata": {},
   "outputs": [
    {
     "data": {
      "text/plain": [
       "KNeighborsClassifier(n_neighbors=100)"
      ]
     },
     "execution_count": 340,
     "metadata": {},
     "output_type": "execute_result"
    }
   ],
   "source": [
    "#k-nearest neighbours\n",
    "from sklearn.neighbors import KNeighborsClassifier\n",
    "knn=KNeighborsClassifier(n_neighbors=100)\n",
    "knn.fit(X_train_sc, y_train)"
   ]
  },
  {
   "cell_type": "code",
   "execution_count": 341,
   "metadata": {},
   "outputs": [
    {
     "name": "stdout",
     "output_type": "stream",
     "text": [
      "knn\n",
      "Training:\n",
      "AUC:0.651\n",
      "accuracy:0.604\n",
      "recall:0.455\n",
      "precision:0.648\n",
      "specificity:0.713\n",
      " \n",
      "Validation:\n",
      "AUC:0.654\n",
      "accuracy:0.697\n",
      "recall:0.525\n",
      "precision:0.146\n",
      "specificity:0.671\n",
      " \n"
     ]
    }
   ],
   "source": [
    "y_train_preds = knn.predict_proba(X_train_sc)[:,1]\n",
    "y_valid_preds = knn.predict_proba(X_valid_sc)[:,1]\n",
    "\n",
    "print('knn')\n",
    "print('Training:')\n",
    "knn_train_auc, knn_train_accuracy, knn_train_recall, knn_train_precision, knn_train_specificity =print_report(y_train,y_train_preds, thresh)\n",
    "print('Validation:')\n",
    "knn_valid_auc, knn_valid_accuracy, knn_valid_recall, knn_valid_precision, knn_valid_specificity= print_report(y_valid,y_valid_preds, thresh)"
   ]
  },
  {
   "cell_type": "code",
   "execution_count": 342,
   "metadata": {},
   "outputs": [],
   "source": [
    "#Gradient Boosting Classifier"
   ]
  },
  {
   "cell_type": "code",
   "execution_count": 343,
   "metadata": {},
   "outputs": [
    {
     "data": {
      "text/plain": [
       "GradientBoostingClassifier(learning_rate=1.0, random_state=42)"
      ]
     },
     "execution_count": 343,
     "metadata": {},
     "output_type": "execute_result"
    }
   ],
   "source": [
    "from sklearn.ensemble import GradientBoostingClassifier\n",
    "gbc =GradientBoostingClassifier(n_estimators=100, learning_rate=1.0,\n",
    "     max_depth=3, random_state=42)\n",
    "gbc.fit(X_train_sc, y_train)"
   ]
  },
  {
   "cell_type": "code",
   "execution_count": 344,
   "metadata": {},
   "outputs": [
    {
     "name": "stdout",
     "output_type": "stream",
     "text": [
      "Gradient Boosting Classifier\n",
      "Training:\n",
      "AUC:0.809\n",
      "accuracy:0.726\n",
      "recall:0.708\n",
      "precision:0.734\n",
      "specificity:0.743\n",
      " \n",
      "Validation:\n",
      "AUC:0.673\n",
      "accuracy:0.587\n",
      "recall:0.646\n",
      "precision:0.127\n",
      "specificity:0.582\n",
      " \n"
     ]
    }
   ],
   "source": [
    "y_train_preds = gbc.predict_proba(X_train_sc)[:,1]\n",
    "y_valid_preds = gbc.predict_proba(X_valid_sc)[:,1]\n",
    "\n",
    "print('Gradient Boosting Classifier')\n",
    "print('Training:')\n",
    "gbc_train_auc, gbc_train_accuracy, gbc_train_recall, gbc_train_precision, gbc_train_specificity= print_report(y_train,y_train_preds, thresh)\n",
    "print('Validation:')\n",
    "gbc_valid_auc, gbc_valid_accuracy, gbc_valid_recall, gbc_valid_precision, gbc_valid_specificity = print_report(y_valid,y_valid_preds, thresh)"
   ]
  },
  {
   "cell_type": "code",
   "execution_count": 345,
   "metadata": {},
   "outputs": [],
   "source": [
    "#Naive Bayes"
   ]
  },
  {
   "cell_type": "code",
   "execution_count": 346,
   "metadata": {},
   "outputs": [
    {
     "data": {
      "text/plain": [
       "GaussianNB()"
      ]
     },
     "execution_count": 346,
     "metadata": {},
     "output_type": "execute_result"
    }
   ],
   "source": [
    "#Naive Bayes\n",
    "from sklearn.naive_bayes import GaussianNB\n",
    "nb= GaussianNB()\n",
    "nb.fit(X_train_sc, y_train)"
   ]
  },
  {
   "cell_type": "code",
   "execution_count": 347,
   "metadata": {},
   "outputs": [
    {
     "name": "stdout",
     "output_type": "stream",
     "text": [
      "Naive Bayes\n",
      "Training:\n",
      "AUC:0.519\n",
      "accuracy:0.514\n",
      "recall:0.992\n",
      "precision:0.507\n",
      "specificity:0.036\n",
      " \n",
      "Validation:\n",
      "AUC:0.500\n",
      "accuracy:0.914\n",
      "recall:0.000\n",
      "precision:0.000\n",
      "specificity:1.000\n",
      " \n"
     ]
    }
   ],
   "source": [
    "y_train_preds = nb.predict_proba(X_train_sc)[:,1]\n",
    "y_valid_preds = nb.predict_proba(X_valid_sc)[:,1]\n",
    "\n",
    "print('Naive Bayes')\n",
    "print('Training:')\n",
    "nb_train_auc, nb_train_accuracy, nb_train_recall, nb_train_precision, nb_train_specificity =print_report(y_train,y_train_preds, thresh)\n",
    "print('Validation:')\n",
    "nb_valid_auc, nb_valid_accuracy, nb_valid_recall, nb_valid_precision, nb_valid_specificity= print_report(y_valid,y_valid_preds, thresh)"
   ]
  },
  {
   "cell_type": "code",
   "execution_count": 348,
   "metadata": {},
   "outputs": [],
   "source": [
    "#Random Forest"
   ]
  },
  {
   "cell_type": "code",
   "execution_count": 349,
   "metadata": {},
   "outputs": [],
   "source": [
    "import warnings\n",
    "warnings.filterwarnings(\"ignore\", category=FutureWarning)\n",
    "from sklearn.ensemble import RandomForestClassifier\n",
    "#rf = RandomForestClassifier(n_estimators = 10, max_depth=25, criterion = \"gini\", min_samples_split=10)\n",
    "rf=RandomForestClassifier(max_depth = 6, random_state = 42)\n",
    "model=rf.fit(X_train_sc, y_train)"
   ]
  },
  {
   "cell_type": "code",
   "execution_count": 350,
   "metadata": {},
   "outputs": [
    {
     "name": "stdout",
     "output_type": "stream",
     "text": [
      "Random Forest\n",
      "Training:\n",
      "AUC:0.684\n",
      "accuracy:0.626\n",
      "recall:0.558\n",
      "precision:0.646\n",
      "specificity:0.694\n",
      " \n",
      "Validation:\n",
      "AUC:0.663\n",
      "accuracy:0.655\n",
      "recall:0.549\n",
      "precision:0.133\n",
      "specificity:0.665\n",
      " \n"
     ]
    }
   ],
   "source": [
    "y_train_preds = rf.predict_proba(X_train_sc)[:,1]\n",
    "y_valid_preds = rf.predict_proba(X_valid_sc)[:,1]\n",
    "\n",
    "print('Random Forest')\n",
    "print('Training:')\n",
    "rf_train_auc, rf_train_accuracy, rf_train_recall, rf_train_precision, rf_train_specificity =print_report(y_train,y_train_preds, thresh)\n",
    "print('Validation:')\n",
    "rf_valid_auc, rf_valid_accuracy, rf_valid_recall, rf_valid_precision, rf_valid_specificity = print_report(y_valid,y_valid_preds, thresh)"
   ]
  },
  {
   "cell_type": "code",
   "execution_count": 351,
   "metadata": {},
   "outputs": [],
   "source": [
    "#Feature Importance: random forest"
   ]
  },
  {
   "cell_type": "code",
   "execution_count": 352,
   "metadata": {},
   "outputs": [
    {
     "data": {
      "text/html": [
       "<div>\n",
       "<style scoped>\n",
       "    .dataframe tbody tr th:only-of-type {\n",
       "        vertical-align: middle;\n",
       "    }\n",
       "\n",
       "    .dataframe tbody tr th {\n",
       "        vertical-align: top;\n",
       "    }\n",
       "\n",
       "    .dataframe thead th {\n",
       "        text-align: right;\n",
       "    }\n",
       "</style>\n",
       "<table border=\"1\" class=\"dataframe\">\n",
       "  <thead>\n",
       "    <tr style=\"text-align: right;\">\n",
       "      <th></th>\n",
       "      <th>importance</th>\n",
       "    </tr>\n",
       "  </thead>\n",
       "  <tbody>\n",
       "    <tr>\n",
       "      <td>number_inpatient</td>\n",
       "      <td>0.158744</td>\n",
       "    </tr>\n",
       "    <tr>\n",
       "      <td>discharge_disposition_id_22</td>\n",
       "      <td>0.109983</td>\n",
       "    </tr>\n",
       "    <tr>\n",
       "      <td>discharge_disposition_id_3</td>\n",
       "      <td>0.089603</td>\n",
       "    </tr>\n",
       "    <tr>\n",
       "      <td>time_in_hospital</td>\n",
       "      <td>0.078903</td>\n",
       "    </tr>\n",
       "    <tr>\n",
       "      <td>discharge_disposition_id_11</td>\n",
       "      <td>0.071552</td>\n",
       "    </tr>\n",
       "  </tbody>\n",
       "</table>\n",
       "</div>"
      ],
      "text/plain": [
       "                             importance\n",
       "number_inpatient               0.158744\n",
       "discharge_disposition_id_22    0.109983\n",
       "discharge_disposition_id_3     0.089603\n",
       "time_in_hospital               0.078903\n",
       "discharge_disposition_id_11    0.071552"
      ]
     },
     "execution_count": 352,
     "metadata": {},
     "output_type": "execute_result"
    }
   ],
   "source": [
    "feature_importances = pd.DataFrame(rf.feature_importances_,\n",
    "                                   index = feature,\n",
    "                                    columns=['importance']).sort_values('importance',\n",
    "                                                                        ascending=False)\n",
    "feature_importances.head()"
   ]
  },
  {
   "cell_type": "code",
   "execution_count": 353,
   "metadata": {},
   "outputs": [
    {
     "data": {
      "image/png": "[encoded data removed]",
      "text/plain": [
       "<Figure size 640x1200 with 1 Axes>"
      ]
     },
     "metadata": {},
     "output_type": "display_data"
    }
   ],
   "source": [
    "num = 50\n",
    "ylocs = np.arange(num)\n",
    "# get the feature importance for top num and sort in reverse order\n",
    "values_to_plot = feature_importances.iloc[:num].values.ravel()[::-1]\n",
    "feature_labels = list(feature_importances.iloc[:num].index)[::-1]\n",
    "\n",
    "plt.figure(num=None, figsize=(8, 15), dpi=80, facecolor='w', edgecolor='k');\n",
    "plt.barh(ylocs, values_to_plot, align = 'center')\n",
    "plt.ylabel('Features')\n",
    "plt.xlabel('Importance Score')\n",
    "plt.title('Feature Importance Score - Random Forest')\n",
    "plt.yticks(ylocs, feature_labels)\n",
    "plt.show()\n"
   ]
  },
  {
   "cell_type": "code",
   "execution_count": 354,
   "metadata": {},
   "outputs": [],
   "source": [
    "#Model Comparision\n",
    "df_results = pd.DataFrame({'classifier':['knn','knn','rf','rf','gbc','gbc','nb','nb'],\n",
    "                    'data_set':['train','valid']*4,\n",
    "                            'auc':[knn_train_auc,knn_valid_auc,rf_train_auc,rf_valid_auc,gbc_train_auc,gbc_valid_auc,nb_train_auc,nb_valid_auc],\n",
    "                            'accuracy':[knn_train_accuracy,knn_valid_accuracy,rf_train_accuracy,rf_valid_accuracy,gbc_train_accuracy,gbc_valid_accuracy,nb_train_accuracy,nb_valid_accuracy],\n",
    "                            'recall':[knn_train_recall,knn_valid_recall,rf_train_recall,rf_valid_recall,gbc_train_recall,gbc_valid_recall,nb_train_recall,nb_valid_recall],\n",
    "                            'precision':[knn_train_precision,knn_valid_precision,rf_train_precision,rf_valid_precision,gbc_train_precision,gbc_valid_precision,nb_train_precision,nb_valid_precision],\n",
    "                            'specificity':[knn_train_specificity,knn_valid_specificity,rf_train_specificity,rf_valid_specificity,gbc_train_specificity,gbc_valid_specificity,nb_train_specificity,nb_valid_specificity],\n",
    "                          })\n"
   ]
  },
  {
   "cell_type": "code",
   "execution_count": 355,
   "metadata": {},
   "outputs": [
    {
     "data": {
      "image/png": "[encoded data removed]",
      "text/plain": [
       "<Figure size 432x288 with 1 Axes>"
      ]
     },
     "metadata": {},
     "output_type": "display_data"
    }
   ],
   "source": [
    "\n",
    "import seaborn as sns\n",
    "import matplotlib.pyplot as plt\n",
    "sns.set(style=\"darkgrid\")\n",
    "ax = sns.barplot(x=\"classifier\", y=\"auc\", hue=\"data_set\", data= df_results)\n",
    "ax.set_xlabel('Classifier',fontsize = 15)\n",
    "ax.set_ylabel('AUC', fontsize = 15)\n",
    "ax.tick_params(labelsize=15)\n",
    "# Put the legend out of the figure\n",
    "plt.legend(bbox_to_anchor=(1.05, 1), loc=2, borderaxespad=0., fontsize = 15)\n",
    "plt.show()"
   ]
  },
  {
   "cell_type": "code",
   "execution_count": 356,
   "metadata": {},
   "outputs": [
    {
     "data": {
      "image/png": "[encoded data removed]",
      "text/plain": [
       "<Figure size 432x288 with 1 Axes>"
      ]
     },
     "metadata": {},
     "output_type": "display_data"
    }
   ],
   "source": [
    "\n",
    "import seaborn as sns\n",
    "import matplotlib.pyplot as plt\n",
    "sns.set(style=\"darkgrid\")\n",
    "ax = sns.barplot(x=\"classifier\", y=\"accuracy\", hue=\"data_set\", data= df_results)\n",
    "ax.set_xlabel('Classifier',fontsize = 15)\n",
    "ax.set_ylabel('accuracy', fontsize = 15)\n",
    "ax.tick_params(labelsize=15)\n",
    "# Put the legend out of the figure\n",
    "plt.legend(bbox_to_anchor=(1.05, 1), loc=2, borderaxespad=0., fontsize = 15)\n",
    "plt.show()"
   ]
  },
  {
   "cell_type": "code",
   "execution_count": 357,
   "metadata": {},
   "outputs": [
    {
     "data": {
      "image/png": "[encoded data removed]",
      "text/plain": [
       "<Figure size 432x288 with 1 Axes>"
      ]
     },
     "metadata": {},
     "output_type": "display_data"
    }
   ],
   "source": [
    "import seaborn as sns\n",
    "import matplotlib.pyplot as plt\n",
    "sns.set(style=\"darkgrid\")\n",
    "ax = sns.barplot(x=\"classifier\", y=\"recall\", hue=\"data_set\", data=df_results)\n",
    "ax.set_xlabel('Classifier',fontsize = 15)\n",
    "ax.set_ylabel('recall', fontsize = 15)\n",
    "ax.tick_params(labelsize=15)\n",
    "# Put the legend out of the figure\n",
    "plt.legend(bbox_to_anchor=(1.05, 1), loc=2, borderaxespad=0., fontsize = 15)\n",
    "plt.show()"
   ]
  },
  {
   "cell_type": "code",
   "execution_count": 358,
   "metadata": {},
   "outputs": [
    {
     "data": {
      "image/png": "[encoded data removed]",
      "text/plain": [
       "<Figure size 432x288 with 1 Axes>"
      ]
     },
     "metadata": {},
     "output_type": "display_data"
    }
   ],
   "source": [
    "\n",
    "import seaborn as sns\n",
    "import matplotlib.pyplot as plt\n",
    "sns.set(style=\"darkgrid\")\n",
    "ax = sns.barplot(x=\"classifier\", y=\"precision\", hue=\"data_set\", data=df_results)\n",
    "ax.set_xlabel('Classifier',fontsize = 15)\n",
    "ax.set_ylabel('precision', fontsize = 15)\n",
    "ax.tick_params(labelsize=15)\n",
    "# Put the legend out of the figure\n",
    "plt.legend(bbox_to_anchor=(1.05, 1), loc=2, borderaxespad=0., fontsize = 15)\n",
    "plt.show()"
   ]
  },
  {
   "cell_type": "code",
   "execution_count": 359,
   "metadata": {},
   "outputs": [
    {
     "data": {
      "image/png": "[encoded data removed]",
      "text/plain": [
       "<Figure size 432x288 with 1 Axes>"
      ]
     },
     "metadata": {},
     "output_type": "display_data"
    }
   ],
   "source": [
    "import seaborn as sns\n",
    "import matplotlib.pyplot as plt\n",
    "sns.set(style=\"darkgrid\")\n",
    "ax = sns.barplot(x=\"classifier\", y=\"specificity\", hue=\"data_set\", data=df_results)\n",
    "ax.set_xlabel('Classifier',fontsize = 15)\n",
    "ax.set_ylabel('Specificity', fontsize = 15)\n",
    "ax.tick_params(labelsize=15)\n",
    "# Put the legend out of the figure\n",
    "plt.legend(bbox_to_anchor=(1.05, 1), loc=2, borderaxespad=0., fontsize = 15)\n",
    "plt.show()"
   ]
  },
  {
   "cell_type": "code",
   "execution_count": 360,
   "metadata": {},
   "outputs": [],
   "source": [
    "#LEARNING CURVE\n",
    "import numpy as np\n",
    "from sklearn.model_selection import learning_curve\n",
    "from sklearn.model_selection import ShuffleSplit\n",
    "\n",
    "def plot_learning_curve(estimator, title, X, y, ylim=None, cv=None,\n",
    "                        n_jobs=1, train_sizes=np.linspace(.1, 1.0, 5)):\n",
    "    plt.figure()\n",
    "    plt.title(title)\n",
    "    if ylim is not None:\n",
    "        plt.ylim(*ylim)\n",
    "    plt.xlabel(\"Training examples\")\n",
    "    plt.ylabel(\"AUC\")\n",
    "    train_sizes, train_scores, test_scores = learning_curve(\n",
    "        estimator, X, y, cv=cv, n_jobs=n_jobs, train_sizes=train_sizes, scoring = 'roc_auc')\n",
    "    train_scores_mean = np.mean(train_scores, axis=1)\n",
    "    train_scores_std = np.std(train_scores, axis=1)\n",
    "    test_scores_mean = np.mean(test_scores, axis=1)\n",
    "    test_scores_std = np.std(test_scores, axis=1)\n",
    "    plt.grid()\n",
    "\n",
    "    plt.fill_between(train_sizes, train_scores_mean - train_scores_std,\n",
    "                     train_scores_mean + train_scores_std, alpha=0.1,\n",
    "                     color=\"r\")\n",
    "    plt.fill_between(train_sizes, test_scores_mean - test_scores_std,\n",
    "                     test_scores_mean + test_scores_std, alpha=0.1, color=\"b\")\n",
    "    plt.plot(train_sizes, train_scores_mean, 'o-', color=\"r\",\n",
    "             label=\"Training score\")\n",
    "    plt.plot(train_sizes, test_scores_mean, 'o-', color=\"b\",\n",
    "             label=\"Cross-validation score\")\n",
    "\n",
    "    plt.legend(loc=\"best\")\n",
    "    return plt"
   ]
  },
  {
   "cell_type": "code",
   "execution_count": 361,
   "metadata": {},
   "outputs": [
    {
     "data": {
      "image/png": "[encoded data removed]",
      "text/plain": [
       "<Figure size 432x288 with 1 Axes>"
      ]
     },
     "metadata": {},
     "output_type": "display_data"
    }
   ],
   "source": [
    "\n",
    "title = \"Learning Curves (Random Forest)\"\n",
    "# Cross validation with 5 iterations to get smoother mean test and train\n",
    "# score curves, each time with 20% data randomly selected as a validation set.\n",
    "cv = ShuffleSplit(n_splits=5, test_size=0.2, random_state=42)\n",
    "estimator = RandomForestClassifier(max_depth = 6, random_state = 42)\n",
    "plot_learning_curve(estimator, title, X_train_sc, y_train, ylim=(0.2, 1.01), cv=cv, n_jobs=4)\n",
    "\n",
    "plt.show()"
   ]
  },
  {
   "cell_type": "code",
   "execution_count": 362,
   "metadata": {},
   "outputs": [
    {
     "data": {
      "text/plain": [
       "{'bootstrap': True,\n",
       " 'ccp_alpha': 0.0,\n",
       " 'class_weight': None,\n",
       " 'criterion': 'gini',\n",
       " 'max_depth': 6,\n",
       " 'max_features': 'auto',\n",
       " 'max_leaf_nodes': None,\n",
       " 'max_samples': None,\n",
       " 'min_impurity_decrease': 0.0,\n",
       " 'min_impurity_split': None,\n",
       " 'min_samples_leaf': 1,\n",
       " 'min_samples_split': 2,\n",
       " 'min_weight_fraction_leaf': 0.0,\n",
       " 'n_estimators': 100,\n",
       " 'n_jobs': None,\n",
       " 'oob_score': False,\n",
       " 'random_state': 42,\n",
       " 'verbose': 0,\n",
       " 'warm_start': False}"
      ]
     },
     "execution_count": 362,
     "metadata": {},
     "output_type": "execute_result"
    }
   ],
   "source": [
    "#Model Selection: Hyperparameter tuning\n",
    "rf.get_params()"
   ]
  },
  {
   "cell_type": "code",
   "execution_count": 363,
   "metadata": {},
   "outputs": [
    {
     "name": "stdout",
     "output_type": "stream",
     "text": [
      "{'n_estimators': range(200, 1000, 200), 'max_features': ['auto', 'sqrt'], 'max_depth': range(1, 10), 'min_samples_split': range(2, 10, 2), 'criterion': ['gini', 'entropy']}\n"
     ]
    }
   ],
   "source": [
    "#Let's create a grid over a few of these\n",
    "from sklearn.model_selection import RandomizedSearchCV\n",
    "\n",
    "# number of trees\n",
    "n_estimators = range(200,1000,200)\n",
    "# maximum number of features to use at each split\n",
    "max_features = ['auto','sqrt']\n",
    "# maximum depth of the tree\n",
    "max_depth = range(1,10,1)\n",
    "# minimum number of samples to split a node\n",
    "min_samples_split = range(2,10,2)\n",
    "# criterion for evaluating a split\n",
    "criterion = ['gini','entropy']\n",
    "\n",
    "# random grid\n",
    "\n",
    "random_grid = {'n_estimators':n_estimators,\n",
    "              'max_features':max_features,\n",
    "              'max_depth':max_depth,\n",
    "              'min_samples_split':min_samples_split,\n",
    "              'criterion':criterion}\n",
    "\n",
    "print(random_grid)\n"
   ]
  },
  {
   "cell_type": "code",
   "execution_count": 364,
   "metadata": {},
   "outputs": [],
   "source": [
    "\n",
    "from sklearn.metrics import make_scorer, roc_auc_score\n",
    "auc_scoring = make_scorer(roc_auc_score)"
   ]
  },
  {
   "cell_type": "code",
   "execution_count": 365,
   "metadata": {},
   "outputs": [],
   "source": [
    "\n",
    "# create the randomized search cross-validation\n",
    "rf_random = RandomizedSearchCV(estimator = rf, param_distributions = random_grid, \n",
    "                               n_iter = 20, cv = 2, scoring=auc_scoring,\n",
    "                               verbose = 1, random_state = 42)"
   ]
  },
  {
   "cell_type": "code",
   "execution_count": 366,
   "metadata": {},
   "outputs": [
    {
     "name": "stdout",
     "output_type": "stream",
     "text": [
      "Fitting 2 folds for each of 20 candidates, totalling 40 fits\n"
     ]
    },
    {
     "name": "stderr",
     "output_type": "stream",
     "text": [
      "[Parallel(n_jobs=1)]: Using backend SequentialBackend with 1 concurrent workers.\n",
      "[Parallel(n_jobs=1)]: Done  40 out of  40 | elapsed:  1.9min finished\n"
     ]
    },
    {
     "name": "stdout",
     "output_type": "stream",
     "text": [
      "122.89825415611267\n"
     ]
    }
   ],
   "source": [
    "# fit the random search model (this will take a few minutes)\n",
    "import time\n",
    "t1 = time.time()\n",
    "rf_random.fit(X_train_sc, y_train)\n",
    "t2 = time.time()\n",
    "print(t2-t1)"
   ]
  },
  {
   "cell_type": "code",
   "execution_count": 367,
   "metadata": {},
   "outputs": [
    {
     "data": {
      "text/plain": [
       "{'n_estimators': 600,\n",
       " 'min_samples_split': 4,\n",
       " 'max_features': 'sqrt',\n",
       " 'max_depth': 8,\n",
       " 'criterion': 'entropy'}"
      ]
     },
     "execution_count": 367,
     "metadata": {},
     "output_type": "execute_result"
    }
   ],
   "source": [
    "#see the best parameters\n",
    "\n",
    "rf_random.best_params_"
   ]
  },
  {
   "cell_type": "code",
   "execution_count": 368,
   "metadata": {},
   "outputs": [
    {
     "name": "stdout",
     "output_type": "stream",
     "text": [
      "Baseline Random Forest\n",
      "Training AUC:0.684\n",
      "Validation AUC:0.663\n",
      "Optimized Random Forest\n",
      "Training AUC:0.716\n",
      "Validation AUC:0.681\n"
     ]
    }
   ],
   "source": [
    "\n",
    "y_train_preds = rf.predict_proba(X_train_sc)[:,1]\n",
    "y_valid_preds = rf.predict_proba(X_valid_sc)[:,1]\n",
    "\n",
    "print('Baseline Random Forest')\n",
    "rf_train_auc_base = roc_auc_score(y_train, y_train_preds)\n",
    "rf_valid_auc_base = roc_auc_score(y_valid, y_valid_preds)\n",
    "\n",
    "print('Training AUC:%.3f'%(rf_train_auc_base))\n",
    "print('Validation AUC:%.3f'%(rf_valid_auc_base))\n",
    "\n",
    "print('Optimized Random Forest')\n",
    "y_train_preds_random = rf_random.best_estimator_.predict_proba(X_train_sc)[:,1]\n",
    "y_valid_preds_random = rf_random.best_estimator_.predict_proba(X_valid_sc)[:,1]\n",
    "\n",
    "rf_train_auc = roc_auc_score(y_train, y_train_preds_random)\n",
    "rf_valid_auc = roc_auc_score(y_valid, y_valid_preds_random)\n",
    "\n",
    "print('Training AUC:%.3f'%(rf_train_auc))\n",
    "print('Validation AUC:%.3f'%(rf_valid_auc))"
   ]
  },
  {
   "cell_type": "code",
   "execution_count": 369,
   "metadata": {},
   "outputs": [
    {
     "name": "stdout",
     "output_type": "stream",
     "text": [
      "285.57605266571045\n"
     ]
    }
   ],
   "source": [
    "#Optimize gradient boosting classifier\n",
    "# number of trees\n",
    "n_estimators = range(100,500,100)\n",
    "# maximum depth of the tree\n",
    "max_depth = range(1,5,1)\n",
    "# learning rate\n",
    "learning_rate = [0.001,0.01,0.1]\n",
    "# random grid\n",
    "random_grid_gbc = {'n_estimators':n_estimators,\n",
    "              'max_depth':max_depth,\n",
    "              'learning_rate':learning_rate}\n",
    "# create the randomized search cross-validation\n",
    "gbc_random = RandomizedSearchCV(estimator = gbc, param_distributions = random_grid_gbc,\n",
    "                                n_iter = 20, cv = 2, scoring=auc_scoring,\n",
    "                                verbose = 0, random_state = 42)\n",
    "t1 = time.time()\n",
    "gbc_random.fit(X_train_sc, y_train)\n",
    "t2 = time.time()\n",
    "print(t2-t1)"
   ]
  },
  {
   "cell_type": "code",
   "execution_count": 370,
   "metadata": {},
   "outputs": [
    {
     "data": {
      "text/plain": [
       "{'n_estimators': 100, 'max_depth': 3, 'learning_rate': 0.1}"
      ]
     },
     "execution_count": 370,
     "metadata": {},
     "output_type": "execute_result"
    }
   ],
   "source": [
    "gbc_random.best_params_"
   ]
  },
  {
   "cell_type": "code",
   "execution_count": 371,
   "metadata": {},
   "outputs": [
    {
     "name": "stdout",
     "output_type": "stream",
     "text": [
      "Baseline gbc\n",
      "Training AUC:0.809\n",
      "Validation AUC:0.673\n",
      "Optimized gbc\n",
      "Training AUC:0.692\n",
      "Validation AUC:0.677\n"
     ]
    }
   ],
   "source": [
    "y_train_preds = gbc.predict_proba(X_train_sc)[:,1]\n",
    "y_valid_preds = gbc.predict_proba(X_valid_sc)[:,1]\n",
    "\n",
    "print('Baseline gbc')\n",
    "gbc_train_auc_base = roc_auc_score(y_train, y_train_preds)\n",
    "gbc_valid_auc_base = roc_auc_score(y_valid, y_valid_preds)\n",
    "\n",
    "print('Training AUC:%.3f'%(gbc_train_auc_base))\n",
    "print('Validation AUC:%.3f'%(gbc_valid_auc_base))\n",
    "\n",
    "print('Optimized gbc')\n",
    "y_train_preds_random = gbc_random.best_estimator_.predict_proba(X_train_sc)[:,1]\n",
    "y_valid_preds_random = gbc_random.best_estimator_.predict_proba(X_valid_sc)[:,1]\n",
    "gbc_train_auc = roc_auc_score(y_train, y_train_preds_random)\n",
    "gbc_valid_auc = roc_auc_score(y_valid, y_valid_preds_random)\n",
    "\n",
    "print('Training AUC:%.3f'%(gbc_train_auc))\n",
    "print('Validation AUC:%.3f'%(gbc_valid_auc))"
   ]
  },
  {
   "cell_type": "code",
   "execution_count": 372,
   "metadata": {},
   "outputs": [],
   "source": [
    "#Hyperparameter Tunning Results\n",
    "df_results = pd.DataFrame({'classifier':['gbc','gbc','rf','rf'],\n",
    "                           'data_set':['base','optimized']*2,\n",
    "                          'auc':[gbc_valid_auc_base,gbc_valid_auc,\n",
    "                                 rf_valid_auc_base,rf_valid_auc,\n",
    "                                ],\n",
    "                          })"
   ]
  },
  {
   "cell_type": "code",
   "execution_count": 373,
   "metadata": {},
   "outputs": [
    {
     "data": {
      "text/html": [
       "<div>\n",
       "<style scoped>\n",
       "    .dataframe tbody tr th:only-of-type {\n",
       "        vertical-align: middle;\n",
       "    }\n",
       "\n",
       "    .dataframe tbody tr th {\n",
       "        vertical-align: top;\n",
       "    }\n",
       "\n",
       "    .dataframe thead th {\n",
       "        text-align: right;\n",
       "    }\n",
       "</style>\n",
       "<table border=\"1\" class=\"dataframe\">\n",
       "  <thead>\n",
       "    <tr style=\"text-align: right;\">\n",
       "      <th></th>\n",
       "      <th>classifier</th>\n",
       "      <th>data_set</th>\n",
       "      <th>auc</th>\n",
       "    </tr>\n",
       "  </thead>\n",
       "  <tbody>\n",
       "    <tr>\n",
       "      <td>0</td>\n",
       "      <td>gbc</td>\n",
       "      <td>base</td>\n",
       "      <td>0.672682</td>\n",
       "    </tr>\n",
       "    <tr>\n",
       "      <td>1</td>\n",
       "      <td>gbc</td>\n",
       "      <td>optimized</td>\n",
       "      <td>0.676998</td>\n",
       "    </tr>\n",
       "    <tr>\n",
       "      <td>2</td>\n",
       "      <td>rf</td>\n",
       "      <td>base</td>\n",
       "      <td>0.662602</td>\n",
       "    </tr>\n",
       "    <tr>\n",
       "      <td>3</td>\n",
       "      <td>rf</td>\n",
       "      <td>optimized</td>\n",
       "      <td>0.680851</td>\n",
       "    </tr>\n",
       "  </tbody>\n",
       "</table>\n",
       "</div>"
      ],
      "text/plain": [
       "  classifier   data_set       auc\n",
       "0        gbc       base  0.672682\n",
       "1        gbc  optimized  0.676998\n",
       "2         rf       base  0.662602\n",
       "3         rf  optimized  0.680851"
      ]
     },
     "execution_count": 373,
     "metadata": {},
     "output_type": "execute_result"
    }
   ],
   "source": [
    "\n",
    "df_results"
   ]
  },
  {
   "cell_type": "code",
   "execution_count": 374,
   "metadata": {},
   "outputs": [
    {
     "data": {
      "image/png": "[encoded data removed]",
      "text/plain": [
       "<Figure size 432x288 with 1 Axes>"
      ]
     },
     "metadata": {},
     "output_type": "display_data"
    }
   ],
   "source": [
    "ax = sns.barplot(x=\"classifier\", y=\"auc\", hue=\"data_set\", data=df_results)\n",
    "ax.set_xlabel('Classifier',fontsize = 15)\n",
    "ax.set_ylabel('AUC', fontsize = 15)\n",
    "ax.tick_params(labelsize=15)\n",
    "# Put the legend out of the figure\n",
    "plt.legend(bbox_to_anchor=(1.05, 1), loc=2, borderaxespad=0., fontsize = 15)\n",
    "plt.show()"
   ]
  },
  {
   "cell_type": "code",
   "execution_count": 375,
   "metadata": {},
   "outputs": [],
   "source": [
    "#Model Evaluation\n",
    "#Now that we have selected our best model. Let's evaluate the performance of the test set.\n",
    "X_test = df_test[feature].values\n",
    "y_test = df_test['OUTPUT_LABEL'].values\n",
    "X_test_sc = scaler.fit_transform(X_test)"
   ]
  },
  {
   "cell_type": "code",
   "execution_count": 376,
   "metadata": {},
   "outputs": [],
   "source": [
    "\n",
    "best_model= gbc_random.best_estimator_"
   ]
  },
  {
   "cell_type": "code",
   "execution_count": 377,
   "metadata": {},
   "outputs": [],
   "source": [
    "\n",
    "y_train_preds = best_model.predict_proba(X_train_sc)[:,1]\n",
    "y_valid_preds = best_model.predict_proba(X_valid_sc)[:,1]\n",
    "y_test_preds = best_model.predict_proba(X_test_sc)[:,1]"
   ]
  },
  {
   "cell_type": "code",
   "execution_count": 378,
   "metadata": {},
   "outputs": [
    {
     "name": "stdout",
     "output_type": "stream",
     "text": [
      "Training:\n",
      "AUC:0.692\n",
      "accuracy:0.631\n",
      "recall:0.558\n",
      "precision:0.653\n",
      "specificity:0.703\n",
      " \n",
      "Validation:\n",
      "AUC:0.677\n",
      "accuracy:0.669\n",
      "recall:0.557\n",
      "precision:0.140\n",
      "specificity:0.680\n",
      " \n",
      "Test:\n",
      "AUC:0.673\n",
      "accuracy:0.674\n",
      "recall:0.548\n",
      "precision:0.150\n",
      "specificity:0.687\n",
      " \n"
     ]
    }
   ],
   "source": [
    "thresh = 0.5\n",
    "\n",
    "print('Training:')\n",
    "train_auc, train_accuracy, train_recall, train_precision, train_specificity = print_report(y_train,y_train_preds, thresh)\n",
    "print('Validation:')\n",
    "valid_auc, valid_accuracy, valid_recall, valid_precision, valid_specificity  = print_report(y_valid,y_valid_preds, thresh)\n",
    "print('Test:')\n",
    "test_auc, test_accuracy, test_recall, test_precision, test_specificity  = print_report(y_test,y_test_preds, thresh)"
   ]
  },
  {
   "cell_type": "code",
   "execution_count": 379,
   "metadata": {},
   "outputs": [
    {
     "data": {
      "image/png": "[encoded data removed]",
      "text/plain": [
       "<Figure size 432x288 with 1 Axes>"
      ]
     },
     "metadata": {},
     "output_type": "display_data"
    }
   ],
   "source": [
    "from sklearn.metrics import roc_curve \n",
    "\n",
    "fpr_train, tpr_train, thresholds_train = roc_curve(y_train, y_train_preds)\n",
    "auc_train = roc_auc_score(y_train, y_train_preds)\n",
    "\n",
    "fpr_valid, tpr_valid, thresholds_valid = roc_curve(y_valid, y_valid_preds)\n",
    "auc_valid = roc_auc_score(y_valid, y_valid_preds)\n",
    "\n",
    "fpr_test, tpr_test, thresholds_test = roc_curve(y_test, y_test_preds)\n",
    "auc_test = roc_auc_score(y_test, y_test_preds)\n",
    "\n",
    "plt.plot(fpr_train, tpr_train, 'r-',label ='Train AUC:%.3f'%auc_train)\n",
    "plt.plot(fpr_valid, tpr_valid, 'b-',label ='Valid AUC:%.3f'%auc_valid)\n",
    "plt.plot(fpr_test, tpr_test, 'g-',label ='Test AUC:%.3f'%auc_test)\n",
    "plt.plot([0,1],[0,1],'k--')\n",
    "plt.xlabel('False Positive Rate')\n",
    "plt.ylabel('True Positive Rate')\n",
    "plt.legend()\n",
    "plt.show()"
   ]
  }
 ],
 "metadata": {
  "kernelspec": {
   "display_name": "Python 3",
   "language": "python",
   "name": "python3"
  },
  "language_info": {
   "codemirror_mode": {
    "name": "ipython",
    "version": 3
   },
   "file_extension": ".py",
   "mimetype": "text/x-python",
   "name": "python",
   "nbconvert_exporter": "python",
   "pygments_lexer": "ipython3",
   "version": "3.7.4"
  }
 },
 "nbformat": 4,
 "nbformat_minor": 4
}
